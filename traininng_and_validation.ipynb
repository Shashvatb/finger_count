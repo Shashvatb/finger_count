{
 "cells": [
  {
   "cell_type": "code",
   "execution_count": 1,
   "metadata": {},
   "outputs": [],
   "source": [
    "import torch\n",
    "import torch.nn as nn\n",
    "import torch.nn.functional as F\n",
    "import torch.optim as optim\n",
    "from torch.utils.data import DataLoader, Dataset\n",
    "import os\n",
    "import pickle\n",
    "from tqdm import tqdm\n",
    "import numpy as np\n",
    "import matplotlib.pyplot as plt\n",
    "import cv2"
   ]
  },
  {
   "cell_type": "code",
   "execution_count": 2,
   "metadata": {},
   "outputs": [
    {
     "data": {
      "text/plain": [
       "device(type='cuda')"
      ]
     },
     "execution_count": 2,
     "metadata": {},
     "output_type": "execute_result"
    }
   ],
   "source": [
    "device = torch.device('cuda') if torch.cuda.is_available() else torch.device('cpu')\n",
    "device"
   ]
  },
  {
   "cell_type": "code",
   "execution_count": 3,
   "metadata": {},
   "outputs": [
    {
     "name": "stdout",
     "output_type": "stream",
     "text": [
      "[array([[201., 203., 202., ..., 201., 203., 199.],\n",
      "       [201., 201., 202., ..., 202., 202., 201.],\n",
      "       [199., 201., 201., ..., 203., 202., 202.],\n",
      "       ...,\n",
      "       [144., 149., 150., ..., 170., 171., 171.],\n",
      "       [141., 142., 147., ..., 169., 170., 168.],\n",
      "       [122., 133., 152., ..., 170., 171., 168.]], dtype=float32), array([0, 0, 1, 0, 0])]\n"
     ]
    }
   ],
   "source": [
    "data = pickle.load(open(os.path.join(os.getcwd(), 'train_data.pickle'),'rb'))\n",
    "print(data[0])\n",
    "data_train = data[:int(0.9*len(data))]\n",
    "data_test = data[int(0.9*len(data)):]"
   ]
  },
  {
   "cell_type": "code",
   "execution_count": 4,
   "metadata": {},
   "outputs": [
    {
     "name": "stdout",
     "output_type": "stream",
     "text": [
      "torch.Size([1, 8, 4, 4])\n",
      "128\n"
     ]
    }
   ],
   "source": [
    "class Net(nn.Module):\n",
    "    def __init__(self):\n",
    "        super().__init__()\n",
    "        self.conv1 = nn.Conv2d(1, 4, 3)\n",
    "        self.maxpool1 = nn.MaxPool2d(3, 3)\n",
    "        self.conv2 = nn.Conv2d(4, 8, 3)\n",
    "        self.maxpool2 = nn.MaxPool2d(3, 3)\n",
    "        self.flatten_shape = None\n",
    "        x = torch.randn([50,50]).view(-1,1,50,50)\n",
    "        x = self.conv(x)\n",
    "        self.fc1 = nn.Linear(self.flatten_shape, 128)\n",
    "        self.fc2 = nn.Linear(128, 5)\n",
    "    \n",
    "    def conv(self, x):\n",
    "        x = F.relu(self.conv1(x))\n",
    "        x = self.maxpool1(x)\n",
    "        x = F.relu(self.conv2(x))\n",
    "        x = self.maxpool2(x)\n",
    "        if self.flatten_shape is None:\n",
    "            self.flatten_shape = x.shape[1] * x.shape[2] * x.shape[3]\n",
    "            print(x.shape)\n",
    "            print(self.flatten_shape)\n",
    "        return x\n",
    "    \n",
    "    def forward(self, x):\n",
    "        x = self.conv(x)\n",
    "        x = x.view(-1, self.flatten_shape)\n",
    "        x = F.relu(self.fc1(x))\n",
    "        x = F.softmax(self.fc2(x), dim=1)\n",
    "#         x = self.fc2(x)\n",
    "        return x\n",
    "    \n",
    "    \n",
    "model = Net().to(device)\n",
    "criterion = nn.BCEWithLogitsLoss().to(device)\n",
    "optimizer = optim.Adam(model.parameters())\n",
    "EPOCHS = 64\n",
    "        \n",
    "    "
   ]
  },
  {
   "cell_type": "code",
   "execution_count": 5,
   "metadata": {},
   "outputs": [],
   "source": [
    "class ImageData(Dataset):\n",
    "    def __init__(self, data):\n",
    "        self.x = torch.Tensor([i[0].astype(np.float32)/255.0 for i in data])\n",
    "        self.y = torch.Tensor([i[1] for i in data])#.long()\n",
    "        self.m = self.x.shape[0]\n",
    "        \n",
    "    def __getitem__(self, index):\n",
    "        return self.x[index], self.y[index]\n",
    "    \n",
    "    def __len__(self):\n",
    "        return self.m\n",
    "    \n",
    "\n",
    "dataset_train = ImageData(data_train)\n",
    "dataloader_train = DataLoader(dataset_train, batch_size=32, shuffle=True)"
   ]
  },
  {
   "cell_type": "code",
   "execution_count": 6,
   "metadata": {},
   "outputs": [],
   "source": [
    "def train(dataloader, model, loss_function, optimizer, EPOCHS):\n",
    "    model.train()\n",
    "    losses = []\n",
    "    for epoch in range(EPOCHS):\n",
    "        epoch_losses = []\n",
    "        for i, (inputs, labels) in tqdm(enumerate(dataloader)):\n",
    "            inputs = inputs.view(-1, 1, 50, 50).to(device)\n",
    "            \n",
    "            labels = labels.view(-1,5).to(device)   \n",
    "#             print(labels)\n",
    "            model.zero_grad()\n",
    "            optimizer.zero_grad()\n",
    "            y_hat = model.forward(inputs)\n",
    "#             print(y_hat)\n",
    "            loss = loss_function(y_hat, labels)\n",
    "            loss.backward()\n",
    "            optimizer.step()\n",
    "            epoch_losses.append(loss)\n",
    "            if i % 16 == 0:\n",
    "                losses.append(loss)\n",
    "        print(np.min(epoch_losses))\n",
    "    return model, losses    "
   ]
  },
  {
   "cell_type": "code",
   "execution_count": 7,
   "metadata": {},
   "outputs": [
    {
     "name": "stderr",
     "output_type": "stream",
     "text": [
      "8it [00:01,  6.57it/s]\n",
      "8it [00:00, 96.40it/s]\n",
      "8it [00:00, 97.93it/s]\n"
     ]
    },
    {
     "name": "stdout",
     "output_type": "stream",
     "text": [
      "tensor(0.7581, device='cuda:0', grad_fn=<BinaryCrossEntropyWithLogitsBackward>)\n",
      "tensor(0.7577, device='cuda:0', grad_fn=<BinaryCrossEntropyWithLogitsBackward>)\n",
      "tensor(0.7576, device='cuda:0', grad_fn=<BinaryCrossEntropyWithLogitsBackward>)"
     ]
    },
    {
     "name": "stderr",
     "output_type": "stream",
     "text": [
      "8it [00:00, 97.82it/s]\n",
      "8it [00:00, 97.82it/s]\n",
      "0it [00:00, ?it/s]"
     ]
    },
    {
     "name": "stdout",
     "output_type": "stream",
     "text": [
      "\n",
      "tensor(0.7548, device='cuda:0', grad_fn=<BinaryCrossEntropyWithLogitsBackward>)\n",
      "tensor(0.7565, device='cuda:0', grad_fn=<BinaryCrossEntropyWithLogitsBackward>)\n"
     ]
    },
    {
     "name": "stderr",
     "output_type": "stream",
     "text": [
      "8it [00:00, 90.13it/s]\n",
      "8it [00:00, 90.13it/s]\n",
      "0it [00:00, ?it/s]"
     ]
    },
    {
     "name": "stdout",
     "output_type": "stream",
     "text": [
      "tensor(0.7543, device='cuda:0', grad_fn=<BinaryCrossEntropyWithLogitsBackward>)\n",
      "tensor(0.7520, device='cuda:0', grad_fn=<BinaryCrossEntropyWithLogitsBackward>)\n"
     ]
    },
    {
     "name": "stderr",
     "output_type": "stream",
     "text": [
      "8it [00:00, 96.98it/s]\n",
      "8it [00:00, 94.37it/s]\n",
      "0it [00:00, ?it/s]"
     ]
    },
    {
     "name": "stdout",
     "output_type": "stream",
     "text": [
      "tensor(0.7537, device='cuda:0', grad_fn=<BinaryCrossEntropyWithLogitsBackward>)\n",
      "tensor(0.7529, device='cuda:0', grad_fn=<BinaryCrossEntropyWithLogitsBackward>)\n"
     ]
    },
    {
     "name": "stderr",
     "output_type": "stream",
     "text": [
      "8it [00:00, 99.03it/s]\n",
      "8it [00:00, 58.55it/s]\n",
      "0it [00:00, ?it/s]"
     ]
    },
    {
     "name": "stdout",
     "output_type": "stream",
     "text": [
      "tensor(0.7512, device='cuda:0', grad_fn=<BinaryCrossEntropyWithLogitsBackward>)\n",
      "tensor(0.7459, device='cuda:0', grad_fn=<BinaryCrossEntropyWithLogitsBackward>)\n"
     ]
    },
    {
     "name": "stderr",
     "output_type": "stream",
     "text": [
      "8it [00:00, 71.62it/s]\n",
      "8it [00:00, 86.25it/s]\n",
      "0it [00:00, ?it/s]"
     ]
    },
    {
     "name": "stdout",
     "output_type": "stream",
     "text": [
      "tensor(0.7515, device='cuda:0', grad_fn=<BinaryCrossEntropyWithLogitsBackward>)\n",
      "tensor(0.7501, device='cuda:0', grad_fn=<BinaryCrossEntropyWithLogitsBackward>)\n"
     ]
    },
    {
     "name": "stderr",
     "output_type": "stream",
     "text": [
      "8it [00:00, 87.19it/s]\n",
      "8it [00:00, 70.36it/s]\n",
      "0it [00:00, ?it/s]"
     ]
    },
    {
     "name": "stdout",
     "output_type": "stream",
     "text": [
      "tensor(0.7481, device='cuda:0', grad_fn=<BinaryCrossEntropyWithLogitsBackward>)\n",
      "tensor(0.7439, device='cuda:0', grad_fn=<BinaryCrossEntropyWithLogitsBackward>)\n"
     ]
    },
    {
     "name": "stderr",
     "output_type": "stream",
     "text": [
      "8it [00:00, 59.42it/s]\n",
      "8it [00:00, 82.69it/s]\n",
      "0it [00:00, ?it/s]"
     ]
    },
    {
     "name": "stdout",
     "output_type": "stream",
     "text": [
      "tensor(0.7442, device='cuda:0', grad_fn=<BinaryCrossEntropyWithLogitsBackward>)\n",
      "tensor(0.7390, device='cuda:0', grad_fn=<BinaryCrossEntropyWithLogitsBackward>)\n"
     ]
    },
    {
     "name": "stderr",
     "output_type": "stream",
     "text": [
      "8it [00:00, 86.25it/s]\n",
      "8it [00:00, 59.86it/s]\n",
      "0it [00:00, ?it/s]"
     ]
    },
    {
     "name": "stdout",
     "output_type": "stream",
     "text": [
      "tensor(0.7459, device='cuda:0', grad_fn=<BinaryCrossEntropyWithLogitsBackward>)\n",
      "tensor(0.7289, device='cuda:0', grad_fn=<BinaryCrossEntropyWithLogitsBackward>)\n"
     ]
    },
    {
     "name": "stderr",
     "output_type": "stream",
     "text": [
      "8it [00:00, 64.69it/s]\n",
      "8it [00:00, 71.62it/s]\n",
      "0it [00:00, ?it/s]"
     ]
    },
    {
     "name": "stdout",
     "output_type": "stream",
     "text": [
      "tensor(0.7319, device='cuda:0', grad_fn=<BinaryCrossEntropyWithLogitsBackward>)\n",
      "tensor(0.7327, device='cuda:0', grad_fn=<BinaryCrossEntropyWithLogitsBackward>)\n"
     ]
    },
    {
     "name": "stderr",
     "output_type": "stream",
     "text": [
      "8it [00:00, 65.75it/s]\n",
      "8it [00:00, 77.13it/s]\n",
      "0it [00:00, ?it/s]"
     ]
    },
    {
     "name": "stdout",
     "output_type": "stream",
     "text": [
      "tensor(0.7264, device='cuda:0', grad_fn=<BinaryCrossEntropyWithLogitsBackward>)\n",
      "tensor(0.7275, device='cuda:0', grad_fn=<BinaryCrossEntropyWithLogitsBackward>)\n"
     ]
    },
    {
     "name": "stderr",
     "output_type": "stream",
     "text": [
      "8it [00:00, 56.09it/s]\n",
      "8it [00:00, 89.13it/s]\n",
      "0it [00:00, ?it/s]"
     ]
    },
    {
     "name": "stdout",
     "output_type": "stream",
     "text": [
      "tensor(0.7203, device='cuda:0', grad_fn=<BinaryCrossEntropyWithLogitsBackward>)\n",
      "tensor(0.7170, device='cuda:0', grad_fn=<BinaryCrossEntropyWithLogitsBackward>)\n"
     ]
    },
    {
     "name": "stderr",
     "output_type": "stream",
     "text": [
      "8it [00:00, 86.78it/s]\n",
      "8it [00:00, 90.12it/s]\n",
      "8it [00:00, 99.48it/s]\n"
     ]
    },
    {
     "name": "stdout",
     "output_type": "stream",
     "text": [
      "tensor(0.7112, device='cuda:0', grad_fn=<BinaryCrossEntropyWithLogitsBackward>)\n",
      "tensor(0.7009, device='cuda:0', grad_fn=<BinaryCrossEntropyWithLogitsBackward>)\n",
      "tensor(0.7097, device='cuda:0', grad_fn=<BinaryCrossEntropyWithLogitsBackward>)\n"
     ]
    },
    {
     "name": "stderr",
     "output_type": "stream",
     "text": [
      "8it [00:00, 99.03it/s]\n",
      "8it [00:00, 95.49it/s]\n",
      "8it [00:00, 102.84it/s]\n"
     ]
    },
    {
     "name": "stdout",
     "output_type": "stream",
     "text": [
      "tensor(0.7068, device='cuda:0', grad_fn=<BinaryCrossEntropyWithLogitsBackward>)\n",
      "tensor(0.7137, device='cuda:0', grad_fn=<BinaryCrossEntropyWithLogitsBackward>)\n",
      "tensor(0.7087, device='cuda:0', grad_fn=<BinaryCrossEntropyWithLogitsBackward>)"
     ]
    },
    {
     "name": "stderr",
     "output_type": "stream",
     "text": [
      "8it [00:00, 93.27it/s]\n",
      "8it [00:00, 105.55it/s]\n",
      "8it [00:00, 96.65it/s]\n",
      "0it [00:00, ?it/s]"
     ]
    },
    {
     "name": "stdout",
     "output_type": "stream",
     "text": [
      "\n",
      "tensor(0.7052, device='cuda:0', grad_fn=<BinaryCrossEntropyWithLogitsBackward>)\n",
      "tensor(0.7055, device='cuda:0', grad_fn=<BinaryCrossEntropyWithLogitsBackward>)\n",
      "tensor(0.6998, device='cuda:0', grad_fn=<BinaryCrossEntropyWithLogitsBackward>)\n"
     ]
    },
    {
     "name": "stderr",
     "output_type": "stream",
     "text": [
      "8it [00:00, 95.49it/s]\n",
      "8it [00:00, 102.84it/s]\n",
      "8it [00:00, 101.59it/s]\n",
      "0it [00:00, ?it/s]"
     ]
    },
    {
     "name": "stdout",
     "output_type": "stream",
     "text": [
      "tensor(0.6932, device='cuda:0', grad_fn=<BinaryCrossEntropyWithLogitsBackward>)\n",
      "tensor(0.6970, device='cuda:0', grad_fn=<BinaryCrossEntropyWithLogitsBackward>)\n",
      "tensor(0.6990, device='cuda:0', grad_fn=<BinaryCrossEntropyWithLogitsBackward>)\n"
     ]
    },
    {
     "name": "stderr",
     "output_type": "stream",
     "text": [
      "8it [00:00, 97.67it/s]\n",
      "8it [00:00, 104.18it/s]\n",
      "8it [00:00, 89.13it/s]\n",
      "0it [00:00, ?it/s]"
     ]
    },
    {
     "name": "stdout",
     "output_type": "stream",
     "text": [
      "tensor(0.6955, device='cuda:0', grad_fn=<BinaryCrossEntropyWithLogitsBackward>)\n",
      "tensor(0.6948, device='cuda:0', grad_fn=<BinaryCrossEntropyWithLogitsBackward>)\n",
      "tensor(0.6757, device='cuda:0', grad_fn=<BinaryCrossEntropyWithLogitsBackward>)\n"
     ]
    },
    {
     "name": "stderr",
     "output_type": "stream",
     "text": [
      "8it [00:00, 82.70it/s]\n",
      "8it [00:00, 94.19it/s]\n",
      "8it [00:00, 100.99it/s]\n"
     ]
    },
    {
     "name": "stdout",
     "output_type": "stream",
     "text": [
      "tensor(0.6823, device='cuda:0', grad_fn=<BinaryCrossEntropyWithLogitsBackward>)\n",
      "tensor(0.6905, device='cuda:0', grad_fn=<BinaryCrossEntropyWithLogitsBackward>)\n",
      "tensor(0.6811, device='cuda:0', grad_fn=<BinaryCrossEntropyWithLogitsBackward>)\n"
     ]
    },
    {
     "name": "stderr",
     "output_type": "stream",
     "text": [
      "8it [00:00, 97.82it/s]\n",
      "8it [00:00, 95.14it/s]\n",
      "8it [00:00, 101.54it/s]\n"
     ]
    },
    {
     "name": "stdout",
     "output_type": "stream",
     "text": [
      "tensor(0.6786, device='cuda:0', grad_fn=<BinaryCrossEntropyWithLogitsBackward>)\n",
      "tensor(0.6862, device='cuda:0', grad_fn=<BinaryCrossEntropyWithLogitsBackward>)\n",
      "tensor(0.6784, device='cuda:0', grad_fn=<BinaryCrossEntropyWithLogitsBackward>)"
     ]
    },
    {
     "name": "stderr",
     "output_type": "stream",
     "text": [
      "8it [00:00, 102.31it/s]\n",
      "8it [00:00, 99.72it/s]\n",
      "0it [00:00, ?it/s]"
     ]
    },
    {
     "name": "stdout",
     "output_type": "stream",
     "text": [
      "\n",
      "tensor(0.6858, device='cuda:0', grad_fn=<BinaryCrossEntropyWithLogitsBackward>)\n",
      "tensor(0.6803, device='cuda:0', grad_fn=<BinaryCrossEntropyWithLogitsBackward>)\n"
     ]
    },
    {
     "name": "stderr",
     "output_type": "stream",
     "text": [
      "8it [00:00, 100.27it/s]\n",
      "8it [00:00, 104.17it/s]\n",
      "8it [00:00, 100.73it/s]\n",
      "0it [00:00, ?it/s]"
     ]
    },
    {
     "name": "stdout",
     "output_type": "stream",
     "text": [
      "tensor(0.6833, device='cuda:0', grad_fn=<BinaryCrossEntropyWithLogitsBackward>)\n",
      "tensor(0.6635, device='cuda:0', grad_fn=<BinaryCrossEntropyWithLogitsBackward>)\n",
      "tensor(0.6793, device='cuda:0', grad_fn=<BinaryCrossEntropyWithLogitsBackward>)\n"
     ]
    },
    {
     "name": "stderr",
     "output_type": "stream",
     "text": [
      "8it [00:00, 91.15it/s]\n",
      "8it [00:00, 98.02it/s]\n",
      "8it [00:00, 106.95it/s]\n",
      "0it [00:00, ?it/s]"
     ]
    },
    {
     "name": "stdout",
     "output_type": "stream",
     "text": [
      "tensor(0.6807, device='cuda:0', grad_fn=<BinaryCrossEntropyWithLogitsBackward>)\n",
      "tensor(0.6682, device='cuda:0', grad_fn=<BinaryCrossEntropyWithLogitsBackward>)\n",
      "tensor(0.6783, device='cuda:0', grad_fn=<BinaryCrossEntropyWithLogitsBackward>)\n"
     ]
    },
    {
     "name": "stderr",
     "output_type": "stream",
     "text": [
      "8it [00:00, 92.20it/s]\n",
      "8it [00:00, 106.89it/s]\n",
      "8it [00:00, 93.27it/s]\n",
      "0it [00:00, ?it/s]"
     ]
    },
    {
     "name": "stdout",
     "output_type": "stream",
     "text": [
      "tensor(0.6799, device='cuda:0', grad_fn=<BinaryCrossEntropyWithLogitsBackward>)\n",
      "tensor(0.6702, device='cuda:0', grad_fn=<BinaryCrossEntropyWithLogitsBackward>)\n",
      "tensor(0.6692, device='cuda:0', grad_fn=<BinaryCrossEntropyWithLogitsBackward>)\n"
     ]
    },
    {
     "name": "stderr",
     "output_type": "stream",
     "text": [
      "8it [00:00, 96.25it/s]\n",
      "8it [00:00, 101.87it/s]\n",
      "0it [00:00, ?it/s]"
     ]
    },
    {
     "name": "stdout",
     "output_type": "stream",
     "text": [
      "tensor(0.6679, device='cuda:0', grad_fn=<BinaryCrossEntropyWithLogitsBackward>)\n",
      "tensor(0.6754, device='cuda:0', grad_fn=<BinaryCrossEntropyWithLogitsBackward>)\n"
     ]
    },
    {
     "name": "stderr",
     "output_type": "stream",
     "text": [
      "8it [00:00, 81.02it/s]\n",
      "8it [00:00, 84.43it/s]\n",
      "0it [00:00, ?it/s]"
     ]
    },
    {
     "name": "stdout",
     "output_type": "stream",
     "text": [
      "tensor(0.6671, device='cuda:0', grad_fn=<BinaryCrossEntropyWithLogitsBackward>)\n",
      "tensor(0.6718, device='cuda:0', grad_fn=<BinaryCrossEntropyWithLogitsBackward>)\n"
     ]
    },
    {
     "name": "stderr",
     "output_type": "stream",
     "text": [
      "8it [00:00, 94.51it/s]\n",
      "8it [00:00, 99.03it/s]\n",
      "8it [00:00, 100.27it/s]"
     ]
    },
    {
     "name": "stdout",
     "output_type": "stream",
     "text": [
      "tensor(0.6603, device='cuda:0', grad_fn=<BinaryCrossEntropyWithLogitsBackward>)\n",
      "tensor(0.6686, device='cuda:0', grad_fn=<BinaryCrossEntropyWithLogitsBackward>)\n",
      "tensor(0.6681, device='cuda:0', grad_fn=<BinaryCrossEntropyWithLogitsBackward>)\n"
     ]
    },
    {
     "name": "stderr",
     "output_type": "stream",
     "text": [
      "\n"
     ]
    }
   ],
   "source": [
    "model, losses = train(dataloader_train, model, criterion, optimizer, EPOCHS)\n",
    "torch.save(model.state_dict(), os.path.join(os.getcwd(), 'model.pth'))"
   ]
  },
  {
   "cell_type": "code",
   "execution_count": 8,
   "metadata": {},
   "outputs": [
    {
     "data": {
      "text/plain": [
       "[<matplotlib.lines.Line2D at 0x21202ac7550>]"
      ]
     },
     "execution_count": 8,
     "metadata": {},
     "output_type": "execute_result"
    },
    {
     "data": {
      "image/png": "[encoded data removed]",
      "text/plain": [
       "<Figure size 432x288 with 1 Axes>"
      ]
     },
     "metadata": {
      "needs_background": "light"
     },
     "output_type": "display_data"
    }
   ],
   "source": [
    "plt.plot(losses)"
   ]
  },
  {
   "cell_type": "code",
   "execution_count": 9,
   "metadata": {},
   "outputs": [
    {
     "name": "stderr",
     "output_type": "stream",
     "text": [
      "1it [00:00, 200.52it/s]"
     ]
    },
    {
     "name": "stdout",
     "output_type": "stream",
     "text": [
      "0.7037037037037037\n"
     ]
    },
    {
     "name": "stderr",
     "output_type": "stream",
     "text": [
      "\n"
     ]
    }
   ],
   "source": [
    "def validate(model, dataloader):\n",
    "    model.eval()\n",
    "    correct = 0\n",
    "    total = 0\n",
    "    for i, (inputs, labels) in tqdm(enumerate(dataloader)):\n",
    "        inputs = inputs.view(-1, 1, 50, 50).to(device)    \n",
    "        labels = labels.view(-1,5).to(device)  \n",
    "        \n",
    "        y_hat = model.forward(inputs)\n",
    "#         print(torch.sum(torch.argmax(y_hat, dim=1) == torch.argmax(labels, dim=1)))\n",
    "#         print(torch.argmax(labels, dim=1))\n",
    "#         break\n",
    "        correct += torch.sum(torch.argmax(y_hat, dim=1) == torch.argmax(labels, dim=1))\n",
    "#         print(correct)\n",
    "        total += inputs.shape[0]\n",
    "#         print(total)\n",
    "    print(correct.item()/total)\n",
    "dataset_val = ImageData(data_test)\n",
    "dataloader_val = DataLoader(dataset_val, batch_size=32)\n",
    "validate(model, dataloader_val)"
   ]
  }
 ],
 "metadata": {
  "kernelspec": {
   "display_name": "Python 3",
   "language": "python",
   "name": "python3"
  },
  "language_info": {
   "codemirror_mode": {
    "name": "ipython",
    "version": 3
   },
   "file_extension": ".py",
   "mimetype": "text/x-python",
   "name": "python",
   "nbconvert_exporter": "python",
   "pygments_lexer": "ipython3",
   "version": "3.6.5"
  }
 },
 "nbformat": 4,
 "nbformat_minor": 4
}
