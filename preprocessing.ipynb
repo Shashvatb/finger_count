{
 "cells": [
  {
   "cell_type": "code",
   "execution_count": 1,
   "metadata": {},
   "outputs": [],
   "source": [
    "import cv2\n",
    "import os\n",
    "from glob import glob\n",
    "import matplotlib.pyplot as plt\n",
    "import pickle\n",
    "import random\n",
    "import numpy as np\n",
    "from tqdm import tqdm"
   ]
  },
  {
   "cell_type": "code",
   "execution_count": 2,
   "metadata": {},
   "outputs": [
    {
     "name": "stdout",
     "output_type": "stream",
     "text": [
      "['F:\\\\studies\\\\datascience\\\\python\\\\pytorch\\\\finger_count\\\\data\\\\train\\\\1', 'F:\\\\studies\\\\datascience\\\\python\\\\pytorch\\\\finger_count\\\\data\\\\train\\\\2', 'F:\\\\studies\\\\datascience\\\\python\\\\pytorch\\\\finger_count\\\\data\\\\train\\\\3', 'F:\\\\studies\\\\datascience\\\\python\\\\pytorch\\\\finger_count\\\\data\\\\train\\\\4', 'F:\\\\studies\\\\datascience\\\\python\\\\pytorch\\\\finger_count\\\\data\\\\train\\\\5']\n"
     ]
    }
   ],
   "source": [
    "labels = glob(os.path.join(os.getcwd(), 'data', 'train', '*'))\n",
    "print(labels)\n"
   ]
  },
  {
   "cell_type": "code",
   "execution_count": 3,
   "metadata": {},
   "outputs": [
    {
     "name": "stderr",
     "output_type": "stream",
     "text": [
      "100%|██████████████████████████████████████████████████████████████████████████████████| 51/51 [00:04<00:00, 10.81it/s]\n",
      "100%|██████████████████████████████████████████████████████████████████████████████████| 52/52 [00:04<00:00, 11.27it/s]\n",
      "100%|██████████████████████████████████████████████████████████████████████████████████| 51/51 [00:04<00:00, 11.35it/s]\n",
      "100%|██████████████████████████████████████████████████████████████████████████████████| 56/56 [00:04<00:00, 11.23it/s]\n",
      "100%|██████████████████████████████████████████████████████████████████████████████████| 52/52 [00:04<00:00, 11.36it/s]\n"
     ]
    }
   ],
   "source": [
    "train = []\n",
    "for label in labels:\n",
    "    imgs = glob(os.path.join(label, '*.jpg'))\n",
    "    y = np.eye(5)[int(label.split('\\\\')[-1]) - 1].astype(int)\n",
    "#     y = int(label.split('\\\\')[-1]) - 1\n",
    "    for img in tqdm(imgs):\n",
    "        i = cv2.imread(img, cv2.IMREAD_GRAYSCALE)\n",
    "        i = cv2.resize(i, (50, 50)).astype(np.float32)\n",
    "        train.append([i, y])\n"
   ]
  },
  {
   "cell_type": "code",
   "execution_count": 4,
   "metadata": {},
   "outputs": [
    {
     "name": "stdout",
     "output_type": "stream",
     "text": [
      "[array([[193., 194., 191., ..., 180., 183., 181.],\n",
      "       [190., 190., 188., ..., 182., 180., 179.],\n",
      "       [189., 191., 188., ..., 179., 181., 181.],\n",
      "       ...,\n",
      "       [ 67.,  49.,  63., ..., 164., 166., 164.],\n",
      "       [ 52.,  65.,  62., ..., 162., 162., 165.],\n",
      "       [ 56.,  56.,  59., ..., 163., 164., 161.]], dtype=float32), array([1, 0, 0, 0, 0])]\n"
     ]
    }
   ],
   "source": [
    "print(train[0])"
   ]
  },
  {
   "cell_type": "code",
   "execution_count": 5,
   "metadata": {},
   "outputs": [],
   "source": [
    "random.shuffle(train)"
   ]
  },
  {
   "cell_type": "code",
   "execution_count": 6,
   "metadata": {},
   "outputs": [
    {
     "name": "stdout",
     "output_type": "stream",
     "text": [
      "[0 0 0 0 1]\n"
     ]
    },
    {
     "data": {
      "text/plain": [
       "<matplotlib.image.AxesImage at 0x1900d9b61d0>"
      ]
     },
     "execution_count": 6,
     "metadata": {},
     "output_type": "execute_result"
    },
    {
     "data": {
      "image/png": "[encoded data removed]",
      "text/plain": [
       "<Figure size 432x288 with 1 Axes>"
      ]
     },
     "metadata": {
      "needs_background": "light"
     },
     "output_type": "display_data"
    }
   ],
   "source": [
    "print(train[87][1])\n",
    "plt.imshow(train[87][0])"
   ]
  },
  {
   "cell_type": "code",
   "execution_count": 7,
   "metadata": {},
   "outputs": [],
   "source": [
    "pickle.dump(train, open(os.path.join(os.getcwd(), 'train_data.pickle'), 'wb'))"
   ]
  }
 ],
 "metadata": {
  "kernelspec": {
   "display_name": "Python 3",
   "language": "python",
   "name": "python3"
  },
  "language_info": {
   "codemirror_mode": {
    "name": "ipython",
    "version": 3
   },
   "file_extension": ".py",
   "mimetype": "text/x-python",
   "name": "python",
   "nbconvert_exporter": "python",
   "pygments_lexer": "ipython3",
   "version": "3.6.5"
  }
 },
 "nbformat": 4,
 "nbformat_minor": 4
}
